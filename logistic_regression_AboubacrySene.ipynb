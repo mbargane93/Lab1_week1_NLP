{
  "cells": [
    {
      "cell_type": "markdown",
      "metadata": {
        "id": "PPdw1t_iTv1W"
      },
      "source": [
        "In this second part of the lab, we will implement a language identifier trained on the same data, but using Logistic Regression instead of Naive Bayes."
      ]
    },
    {
      "cell_type": "code",
      "execution_count": 1,
      "metadata": {
        "id": "V5dDLDLVTv1a"
      },
      "outputs": [],
      "source": [
        "import io, sys, math\n",
        "import numpy as np\n",
        "from collections import defaultdict\n",
        "from math import log"
      ]
    },
    {
      "cell_type": "markdown",
      "metadata": {
        "id": "Jaap__fxTv1b"
      },
      "source": [
        "This function is used to build the dictionary, or vocabulary, which is a mapping from strings (or words) to integers (or indices). This will allow to build vector representations of documents. "
      ]
    },
    {
      "cell_type": "code",
      "execution_count": 2,
      "metadata": {
        "id": "oQd-Ue_hTv1b"
      },
      "outputs": [],
      "source": [
        "def build_dict(filename, threshold=1):\n",
        "    fin = io.open(filename, 'r', encoding='utf-8')\n",
        "    word_dict, label_dict = {}, {}\n",
        "    counts = defaultdict(lambda: 0)\n",
        "    for line in fin:\n",
        "        tokens = line.split()\n",
        "        label = tokens[0]\n",
        "\n",
        "        if not label in label_dict:\n",
        "            label_dict[label] = len(label_dict)\n",
        "\n",
        "        for w in tokens[1:]:\n",
        "            counts[w] += 1\n",
        "            \n",
        "    for k, v in counts.items():\n",
        "        if v > threshold:\n",
        "            word_dict[k] = len(word_dict)\n",
        "    return word_dict, label_dict"
      ]
    },
    {
      "cell_type": "markdown",
      "metadata": {
        "id": "tXiKV51ITv1c"
      },
      "source": [
        "This function is used to load the training dataset, and build vector representations of the training examples. In particular, a document or sentence is represented as a bag of words. Each example correspond to a sparse vector ` x` of dimension `V`, where `V` is the size of the vocabulary. The element `j` of the vector `x` is the number of times the word `j` appears in the document."
      ]
    },
    {
      "cell_type": "code",
      "execution_count": 3,
      "metadata": {
        "id": "hKt8QupVTv1c"
      },
      "outputs": [],
      "source": [
        "def load_data(filename, word_dict, label_dict):\n",
        "    fin = io.open(filename, 'r', encoding='utf-8')\n",
        "    data = []\n",
        "    dim = len(word_dict)\n",
        "    for line in fin:\n",
        "        tokens = line.split()\n",
        "        label = tokens[0]\n",
        "\n",
        "        yi = label_dict[label]\n",
        "        xi = np.zeros(dim)\n",
        "        for word in tokens[1:]:\n",
        "            if word in word_dict:\n",
        "                wid = word_dict[word]\n",
        "                xi[wid] += 1.0\n",
        "        data.append((yi, xi))\n",
        "    return data"
      ]
    },
    {
      "cell_type": "markdown",
      "metadata": {
        "id": "-D3QXoj3Tv1d"
      },
      "source": [
        "First, let's implement the softmax function. Don't forget numerical stability!"
      ]
    },
    {
      "cell_type": "code",
      "execution_count": 4,
      "metadata": {
        "id": "pN89vIkVTv1e"
      },
      "outputs": [],
      "source": [
        "def softmax(x):\n",
        "    ### FILL CODE\n",
        "  max = x.max()\n",
        "  _exp = np.exp(x - max)\n",
        "  sum_exp = np.sum(_exp)\n",
        "  sm = _exp/sum_exp\n",
        "  return sm"
      ]
    },
    {
      "cell_type": "markdown",
      "metadata": {
        "id": "BARMyCxlTv1e"
      },
      "source": [
        "Now, let's implement the main training loop, by using stochastic gradient descent. The function will iterate over the examples of the training set. For each example, we will first compute the loss, before computing the gradient and performing the update."
      ]
    },
    {
      "cell_type": "code",
      "execution_count": 5,
      "metadata": {
        "id": "Q_iWWYj8Tv1f"
      },
      "outputs": [],
      "source": [
        "def sgd(w, data, niter):\n",
        "    nlabels, dim = w.shape\n",
        "    for iter in range(niter):\n",
        "      train_err= 0.0\n",
        "\n",
        "        ### FILL CODE\n",
        "      for y_i, x_i in data:\n",
        "        _pred= softmax(np.dot(w, x_i))\n",
        "        train_err+= math.log(_pred[y_i])\n",
        "        zero_vec=np.zeros(nlabels)\n",
        "        zero_vec[y_i]= 1.0\n",
        "        error= _pred-zero_vec\n",
        "        gradient= error.reshape(nlabels, 1)*x_i.reshape((1, dim))\n",
        "        w= w- 0.5*gradient\n",
        "      print(\"iter: %02d loss: %.3f\" % (iter, train_err/len(data)))\n",
        "    return w"
      ]
    },
    {
      "cell_type": "markdown",
      "metadata": {
        "id": "GYK9IiexTv1f"
      },
      "source": [
        "The next function will predict the most probable label corresponding to example `x`, given the trained classifier `w`."
      ]
    },
    {
      "cell_type": "code",
      "execution_count": 6,
      "metadata": {
        "id": "tVtO_5POTv1g"
      },
      "outputs": [],
      "source": [
        "def predict(w, x):\n",
        "\n",
        "  ## FILL CODE\n",
        "  _pred= softmax(np.dot(w, x))\n",
        "  return np.argmax(_pred)\n"
      ]
    },
    {
      "cell_type": "markdown",
      "metadata": {
        "id": "boT50xgNTv1g"
      },
      "source": [
        "Finally, this function will compute the accuracy of a trained classifier `w` on a validation set."
      ]
    },
    {
      "cell_type": "code",
      "execution_count": 7,
      "metadata": {
        "id": "WnMtMKZ8Tv1g"
      },
      "outputs": [],
      "source": [
        "def compute_accuracy(w, valid_data):\n",
        "    ## FILL CODE\n",
        "    accuracy = 0.0\n",
        "    for y_i, x_i in valid_data:\n",
        "      _pred= predict(w, x_i)\n",
        "      if _pred == y_i:\n",
        "        accuracy+=1.0\n",
        "    print(accuracy)\n",
        "    return (accuracy/float(len(valid_data))) * 100.00"
      ]
    },
    {
      "cell_type": "code",
      "execution_count": 8,
      "metadata": {
        "id": "-L3qV0QqTv1g",
        "colab": {
          "base_uri": "https://localhost:8080/"
        },
        "outputId": "0cadf7a5-c90f-4768-cd24-0cac38f82b92"
      },
      "outputs": [
        {
          "output_type": "stream",
          "name": "stdout",
          "text": [
            "\n",
            "** Logistic Regression **\n",
            "\n",
            "iter: 00 loss: -0.491\n",
            "iter: 01 loss: -0.205\n",
            "iter: 02 loss: -0.156\n",
            "iter: 03 loss: -0.131\n",
            "iter: 04 loss: -0.117\n",
            "\n",
            "933.0\n",
            "Validation accuracy: 93.300\n",
            "\n"
          ]
        }
      ],
      "source": [
        "print(\"\")\n",
        "print(\"** Logistic Regression **\")\n",
        "print(\"\")\n",
        "\n",
        "word_dict, label_dict = build_dict(\"train1.txt\")\n",
        "train_data = load_data(\"train1.txt\", word_dict, label_dict)\n",
        "valid_data = load_data(\"valid1.txt\", word_dict, label_dict)\n",
        "\n",
        "nlabels = len(label_dict)\n",
        "dim = len(word_dict)\n",
        "w = np.zeros([nlabels, dim])\n",
        "w = sgd(w, train_data, 5)\n",
        "print(\"\")\n",
        "print(\"Validation accuracy: %.3f\" % compute_accuracy(w, valid_data))\n",
        "print(\"\")"
      ]
    },
    {
      "cell_type": "code",
      "source": [
        ""
      ],
      "metadata": {
        "id": "gGvUi04XIL5y"
      },
      "execution_count": null,
      "outputs": []
    }
  ],
  "metadata": {
    "kernelspec": {
      "display_name": "Python 3",
      "language": "python",
      "name": "python3"
    },
    "language_info": {
      "codemirror_mode": {
        "name": "ipython",
        "version": 3
      },
      "file_extension": ".py",
      "mimetype": "text/x-python",
      "name": "python",
      "nbconvert_exporter": "python",
      "pygments_lexer": "ipython3",
      "version": "3.6.2+"
    },
    "colab": {
      "name": "logistic_regression_AboubacrySene.ipynb",
      "provenance": [],
      "collapsed_sections": [],
      "toc_visible": true
    },
    "accelerator": "GPU"
  },
  "nbformat": 4,
  "nbformat_minor": 0
}