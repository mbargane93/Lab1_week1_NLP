{
  "cells": [
    {
      "cell_type": "markdown",
      "metadata": {
        "id": "view-in-github",
        "colab_type": "text"
      },
      "source": [
        "<a href=\"https://colab.research.google.com/github/mbargane93/Lab1_week1_NLP/blob/main/Lab3n_gram_models_AboubacrySENE.ipynb\" target=\"_parent\"><img src=\"https://colab.research.google.com/assets/colab-badge.svg\" alt=\"Open In Colab\"/></a>"
      ]
    },
    {
      "cell_type": "markdown",
      "metadata": {
        "id": "xk43htP5I2H2"
      },
      "source": [
        "\n",
        "<h1 style=\"font-family:verdana;font-size:300%;text-align:center;background-color:#f2f2f2;color:#0d0d0d\">AMMI NLP - Review sessions</h1>\n",
        "\n",
        "<h1 style=\"font-family:verdana;font-size:180%;text-align:Center;color:#993333\"> Lab 3: n-gram models </h1>"
      ]
    },
    {
      "cell_type": "markdown",
      "metadata": {
        "id": "fDORXq24I2H3"
      },
      "source": [
        "**Big thanks to Amr Khalifa who improved this lab and made it to a Jupyter Notebook!**"
      ]
    },
    {
      "cell_type": "code",
      "execution_count": 1,
      "metadata": {
        "id": "Dq7Jq-ozI2H4"
      },
      "outputs": [],
      "source": [
        "import io, sys, math, re\n",
        "from collections import defaultdict\n",
        "import numpy as np"
      ]
    },
    {
      "cell_type": "code",
      "execution_count": 2,
      "metadata": {
        "id": "t-tpJr-CI2H4"
      },
      "outputs": [],
      "source": [
        "# data_loader\n",
        "def load_data(filename):\n",
        "    '''\n",
        "    parameters:\n",
        "    filename (string): datafile\n",
        "    \n",
        "    Returns:\n",
        "    data (list of lists): each list is a sentence of the text \n",
        "    vocab (dictionary): {word: no of times it appears in the text}\n",
        "    '''\n",
        "    fin = io.open(filename, 'r', encoding='utf-8')\n",
        "    data = []\n",
        "    vocab = defaultdict(lambda:0)\n",
        "    for line in fin:\n",
        "        sentence = line.split()\n",
        "        data.append(sentence)\n",
        "        for word in sentence:\n",
        "            vocab[word] += 1\n",
        "    return data, vocab"
      ]
    },
    {
      "cell_type": "code",
      "execution_count": 3,
      "metadata": {
        "id": "ocmYRovuI2H5",
        "colab": {
          "base_uri": "https://localhost:8080/"
        },
        "outputId": "1d421a8f-266e-430e-8afc-0a2337303f50"
      },
      "outputs": [
        {
          "output_type": "stream",
          "name": "stdout",
          "text": [
            "load training set..\n",
            "\n",
            "\n",
            "['__label__de', 'Ich', 'würde', 'alles', 'tun,', 'um', 'dich', 'zu', 'beschützen.']\n",
            "\n",
            "\n",
            "how : 26\n",
            "load validation set\n"
          ]
        }
      ],
      "source": [
        "\n",
        "print(\"load training set..\")\n",
        "print(\"\\n\")\n",
        "train_data, vocab = load_data(\"train1.txt\")\n",
        "print(train_data[0])\n",
        "print(\"\\n\")\n",
        "print(\"how :\",vocab['how'])\n",
        "print(\"load validation set\")\n",
        "valid_data, _ = load_data(\"valid1.txt\")\n"
      ]
    },
    {
      "cell_type": "code",
      "execution_count": 5,
      "metadata": {
        "id": "n2ekpxqtI2H5"
      },
      "outputs": [],
      "source": [
        "def remove_rare_words(data, vocab, mincount = 1) :\n",
        "    '''\n",
        "    Parameters:\n",
        "    data (list of lists): each list is a sentence of the text \n",
        "    vocab (dictionary): {word: no of times it appears in the text}\n",
        "    mincount(int): the minimum count \n",
        "    Returns: \n",
        "    data_with_unk(list of lists): data after replacing rare words with <unk> token\n",
        "    '''\n",
        "    # replace words in data that are not in the vocab \n",
        "    # or have a count that is below mincount\n",
        "    data_with_unk = []\n",
        "    ## FILL CODE\n",
        "    for statement in data:\n",
        "      statement_with_unk = []\n",
        "      for word in statement:\n",
        "        if word in vocab and vocab[word]>mincount:\n",
        "          statement_with_unk.append(word)\n",
        "        else:\n",
        "          statement_with_unk.append('<unk>')\n",
        "      data_with_unk.append(statement_with_unk)\n",
        "\n",
        "    return data_with_unk"
      ]
    },
    {
      "cell_type": "code",
      "execution_count": 6,
      "metadata": {
        "id": "K5KsfGr8I2H5",
        "colab": {
          "base_uri": "https://localhost:8080/"
        },
        "outputId": "9e9b2363-4c05-4453-c43b-19db2465e37a"
      },
      "outputs": [
        {
          "output_type": "stream",
          "name": "stdout",
          "text": [
            "remove rare words\n",
            "['__label__de', 'Ich', 'würde', 'alles', '<unk>', 'um', 'dich', 'zu', '<unk>']\n"
          ]
        }
      ],
      "source": [
        "print(\"remove rare words\")\n",
        "train_data = remove_rare_words(train_data, vocab, mincount = 1)\n",
        "valid_data = remove_rare_words(valid_data, vocab, mincount = 1)\n",
        "#train_data\n",
        "print(train_data[0])\n"
      ]
    },
    {
      "cell_type": "code",
      "execution_count": 7,
      "metadata": {
        "id": "C0GogBgRI2H6"
      },
      "outputs": [],
      "source": [
        "def build_ngram(data, n):\n",
        "    '''\n",
        "    Parameters:\n",
        "    data (list of lists): each list is a sentence of the text \n",
        "    n (int): size of the n-gram\n",
        "    \n",
        "    Returns:\n",
        "    prob (dictionary of dictionary)\n",
        "    {\n",
        "        context: {word:probability of this word given context}\n",
        "    }\n",
        "    '''\n",
        "    total_number_words = 0\n",
        "    counts = defaultdict(lambda: defaultdict(lambda: 0.0))\n",
        "\n",
        "    for sentence in data:\n",
        "        sentence = tuple(sentence)\n",
        "        ## FILL CODE\n",
        "        # dict can be indexed by tuples\n",
        "        # store in the same dict all the ngrams\n",
        "        # by using the context as a key and the word as a value\n",
        "        for i in range(len(sentence)):\n",
        "          total_number_words +=1\n",
        "          for k in range(n):\n",
        "            if i-k < 0:\n",
        "              break\n",
        "            counts[sentence[i-k:i]][sentence[i]] +=1 \n",
        "    prob = defaultdict(lambda: defaultdict(lambda: 0.0))\n",
        "    # Build the probabilities from the counts\n",
        "    # Be careful with how you normalize!\n",
        "\n",
        "    for context in counts.keys():\n",
        "    ## FILL CODE\n",
        "      denom =0\n",
        "      for w in counts[context].keys():\n",
        "        denom += counts[context][w]\n",
        "      for w in counts[context].keys():\n",
        "        prob[context][w] = counts[context][w]/denom \n",
        "\n",
        "    return prob"
      ]
    },
    {
      "cell_type": "code",
      "execution_count": 8,
      "metadata": {
        "id": "se5hJuaSI2H6",
        "colab": {
          "base_uri": "https://localhost:8080/"
        },
        "outputId": "b850240e-bfbd-45f6-c5db-a0ceff3ce947"
      },
      "outputs": [
        {
          "output_type": "stream",
          "name": "stdout",
          "text": [
            "build ngram model with n =  2\n"
          ]
        }
      ],
      "source": [
        "# RUN TO BUILD NGRAM MODEL\n",
        "\n",
        "n = 2\n",
        "print(\"build ngram model with n = \", n)\n",
        "model = build_ngram(train_data, n)"
      ]
    },
    {
      "cell_type": "markdown",
      "metadata": {
        "id": "5cd0CG_7I2H7"
      },
      "source": [
        "Here, implement a recursive function over shorter and shorter context to compute a \"stupid backoff model\". An interpolation model can also be implemented this way."
      ]
    },
    {
      "cell_type": "code",
      "execution_count": 9,
      "metadata": {
        "id": "NmW1EYNGI2H7"
      },
      "outputs": [],
      "source": [
        "def get_prob(model, context, w):\n",
        "    '''\n",
        "    Parameters: \n",
        "    model (dictionary of dictionary)\n",
        "    {\n",
        "        context: {word:probability of this word given context}\n",
        "    } \n",
        "    context (list of strings): a sentence\n",
        "    w(string): the word we need to find it's probability given the context\n",
        "    \n",
        "    Retunrs:\n",
        "    prob(float): probability of this word given the context \n",
        "    '''\n",
        "\n",
        "    # code a recursive function over \n",
        "    # smaller and smaller context\n",
        "    # to compute the backoff model\n",
        "    \n",
        "    ## FILL CODE\n",
        "\n",
        "    if context in model and w in model[context]:\n",
        "      return model[context][w]\n",
        "    else:\n",
        "      return 0.4*get_prob(model, context[1:], w)\n"
      ]
    },
    {
      "cell_type": "code",
      "execution_count": 16,
      "metadata": {
        "id": "6xPe0iWPI2H7"
      },
      "outputs": [],
      "source": [
        "def perplexity(model, data, n):\n",
        "    '''\n",
        "    Parameters: \n",
        "    model (dictionary of dictionary)\n",
        "    {\n",
        "        context: {word:probability of this word given context}\n",
        "    } \n",
        "    data (list of lists): each list is a sentence of the text\n",
        "    n(int): size of the n-gram\n",
        "    \n",
        "    Retunrs:\n",
        "    perp(float): the perplexity of the model \n",
        "    '''\n",
        "    ## FILL CODE\n",
        "    _p, t = 0.0, 0\n",
        "    for statement in data:\n",
        "        statement = tuple(statement)\n",
        "        for i in range(1, len(statement)):\n",
        "          num_n_gram = min(n-1, i)\n",
        "          context = statement[i-num_n_gram:i]\n",
        "          _p += -math.log(get_prob(model, context, statement[i]))\n",
        "          t += 1\n",
        "        _p = math.exp(_p/t)\n",
        "\n",
        "    return _p"
      ]
    },
    {
      "cell_type": "code",
      "execution_count": 11,
      "metadata": {
        "id": "aeWJSaG9I2H7",
        "colab": {
          "base_uri": "https://localhost:8080/"
        },
        "outputId": "322cb80a-295d-4b7f-a9a0-620100be7935"
      },
      "outputs": [
        {
          "output_type": "stream",
          "name": "stdout",
          "text": [
            "The perplexity is 64.24932264011586\n"
          ]
        }
      ],
      "source": [
        "# COMPUTE PERPLEXITY ON VALIDATION SET\n",
        "\n",
        "print(\"The perplexity is\", perplexity(model, valid_data, n=n))"
      ]
    },
    {
      "cell_type": "code",
      "execution_count": 12,
      "metadata": {
        "id": "wOJdXyNqI2H7"
      },
      "outputs": [],
      "source": [
        "def get_proba_distrib(model, context):\n",
        "    ## need to get the the words after the context and their probability of appearance\n",
        "    ## after this context \n",
        "    '''\n",
        "    Parameters: \n",
        "    model (dictionary of dictionary)\n",
        "    {\n",
        "        context: {word:probability of this word given context}\n",
        "    }\n",
        "    context (list of strings): the sentence we need to find the words after it and \n",
        "    thier probabilites\n",
        "    \n",
        "    Retunrs:\n",
        "    words_and_probs(dic): {word: probability of word given context}\n",
        "    \n",
        "    '''\n",
        "    # code a recursive function over context\n",
        "    # to find the longest available ngram\n",
        "    \n",
        "    ## FILL CODE\n",
        "    if context in model:\n",
        "      return model[context]\n",
        "    else:\n",
        "      return get_proba_distrib(model, context[1:])"
      ]
    },
    {
      "cell_type": "code",
      "execution_count": 13,
      "metadata": {
        "id": "6AwFgWQhI2H8"
      },
      "outputs": [],
      "source": [
        "def generate(model):\n",
        "    '''\n",
        "    Parameters: \n",
        "    model (dictionary of dictionary)\n",
        "    {\n",
        "        context: {word:probability of this word given context}\n",
        "    }\n",
        "    \n",
        "    Retunrs:\n",
        "    sentence (list of strings): a sentence sampled according to the language model. \n",
        "    \n",
        "\n",
        "    '''\n",
        "    # generate a sentence. A sentence starts with a <s> and ends with a </s>\n",
        "    # Possiblly a use function is:\n",
        "    # np.random.choice(x, 1, p = y)\n",
        "\n",
        "    # where x is a list of things to sample from\n",
        "    # and y is a list of probability (of the same length as x)\n",
        "    sentence = [\"<s>\"]\n",
        "    while sentence[-1] != \"</s>\" and len(sentence)<100:\n",
        "\n",
        "    ## FILL CODE\n",
        "      proba = get_proba_distrib(model, tuple(sentence))\n",
        "      w = np.random.choice((list(proba.keys())), 1, p = list(proba.values()))\n",
        "      sentence.append(w[0])\n",
        "    return sentence"
      ]
    },
    {
      "cell_type": "code",
      "execution_count": 14,
      "metadata": {
        "id": "Ze9jMhrGI2H8",
        "colab": {
          "base_uri": "https://localhost:8080/"
        },
        "outputId": "28f38ead-2665-48b4-8eb1-372d2cb3b855"
      },
      "outputs": [
        {
          "output_type": "stream",
          "name": "stdout",
          "text": [
            "Generated sentence:  ['<s>', 'wirklich', '<unk>', 'ne', 'ŝatas', '<unk>', 'but', 'he', \"didn't\", 'think', 'Tom', 'senin', '<unk>', '<unk>', 'bedeutet', 'nicht,', 'wenn', 'Tom', 'said', 'John', 'a', '<unk>', '<unk>', 'que', '<unk>', '<unk>', 'for', 'them.', '<unk>', 'sed', 'mi', '<unk>', '<unk>', 'ela', 'não', 'sou', 'eu.', '__label__de', 'Tom', 'makes', 'you', 'right', 'now.', \"It's\", 'just', 'there', 'any', '<unk>', '<unk>', 'il', '<unk>', 'вернуться', '<unk>', 'of', '<unk>', '<unk>', '<unk>', '<unk>', 'fare', 'una', 'sonrisa', '<unk>', '<unk>', 'there', 'on', 'staying', 'here', 'less', '<unk>', '<unk>', '<unk>', '<unk>', '<unk>', 'buldum.', 'gagné', '<unk>', 'otuz', '<unk>', 'de', '<unk>', 'у', 'себя', 'очень', 'яркая.', 'me', '<unk>', '<unk>', '<unk>', 'in', 'quella', '<unk>', 'park', 'ettiği', '<unk>', 'мы', 'всё', 'время', '<unk>', '<unk>', '<unk>']\n"
          ]
        }
      ],
      "source": [
        "# GENERATE A SENTENCE FROM THE MODEL\n",
        "\n",
        "print(\"Generated sentence: \",generate(model))"
      ]
    },
    {
      "cell_type": "markdown",
      "metadata": {
        "id": "r_xfwMgOI2H8"
      },
      "source": [
        "Once you are done implementing the model, evaluation and generation code, you can try changing the value of `n`, and play with a larger training set (`train2.txt` and `valid2.txt`). You can also try to implement an interpolation model."
      ]
    },
    {
      "cell_type": "code",
      "execution_count": null,
      "metadata": {
        "id": "uMb-s20YI2H8"
      },
      "outputs": [],
      "source": [
        ""
      ]
    }
  ],
  "metadata": {
    "kernelspec": {
      "display_name": "Python 3",
      "language": "python",
      "name": "python3"
    },
    "language_info": {
      "codemirror_mode": {
        "name": "ipython",
        "version": 3
      },
      "file_extension": ".py",
      "mimetype": "text/x-python",
      "name": "python",
      "nbconvert_exporter": "python",
      "pygments_lexer": "ipython3",
      "version": "3.6.2+"
    },
    "colab": {
      "name": "Lab3n_gram_models_AboubacrySENE.ipynb",
      "provenance": [],
      "include_colab_link": true
    }
  },
  "nbformat": 4,
  "nbformat_minor": 0
}